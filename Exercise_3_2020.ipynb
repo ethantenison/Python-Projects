{
 "cells": [
  {
   "cell_type": "markdown",
   "metadata": {},
   "source": [
    "### Exercise 3\n",
    "February 2020\n",
    "\n",
    "### By: Ethan Tenison"
   ]
  },
  {
   "cell_type": "code",
   "execution_count": 1,
   "metadata": {},
   "outputs": [
    {
     "name": "stdout",
     "output_type": "stream",
     "text": [
      "['seaborn-dark', 'seaborn-darkgrid', 'seaborn-ticks', 'fivethirtyeight', 'seaborn-whitegrid', 'classic', '_classic_test', 'fast', 'seaborn-talk', 'seaborn-dark-palette', 'seaborn-bright', 'seaborn-pastel', 'grayscale', 'seaborn-notebook', 'ggplot', 'seaborn-colorblind', 'seaborn-muted', 'seaborn', 'Solarize_Light2', 'seaborn-paper', 'bmh', 'tableau-colorblind10', 'seaborn-white', 'dark_background', 'seaborn-poster', 'seaborn-deep']\n"
     ]
    }
   ],
   "source": [
    "# the usual suspects...\n",
    "import sys                             # system module \n",
    "import numpy as np                  # pandas uses numpy, and sometimes want to use numpy within pandas\n",
    "import pandas as pd # data package, redundant since already did # graphics package\n",
    " \n",
    "import matplotlib.pyplot as plt      # graphics package\n",
    "import seaborn as sns               # makes matplotlib prettier without issuing a single command!\n",
    "import datetime as dt                  # date and time module, often need to use\n",
    " \n",
    "%matplotlib inline\n",
    "print(plt.style.available)\n",
    "plt.style.use('seaborn-darkgrid')"
   ]
  },
  {
   "cell_type": "markdown",
   "metadata": {},
   "source": [
    "### 1st, the data:\n",
    "\n",
    "The following data were collected as part of an actual economic experiment, in which a sample of US family heads were presented with a price for regularly produced apples (***regprc***) and a price for hypothetical \"ecologically friendly\" (or \"ecolabeled\") apples (***ecoprc***), and asked how many pounds of the ecolabeled (***ecolbs***) and regular (***reglbs***) apples they would purchase. These data were used in the doctoral dissertation of Jeffrey Blend, Department of Agricultural Economics, Michigan State University, 1998. The thesis was supervised by Professor Eileen van Ravensway.  Drs. Blend and van Ravensway kindly provided the data to Jeffrey Wooldridge. The data are utilized in Prof. Wooldridge's econometrics textbook, *Introductory Econometrics* (various editions). The data were obtained from a telephone survey conducted by the Institute for Public Policy and Social Research at MSU.\n"
   ]
  },
  {
   "cell_type": "markdown",
   "metadata": {},
   "source": [
    "### **Demand Functions and Demand Curves**\n",
    "Useful economic concepts that this data can be used to illustrate include:\n",
    "\n",
    "- *What is a demand function?*\n",
    "\n",
    "- *What is a demand curve?*\n",
    "\n",
    "- *What variables do we need to include in a demand function?*\n"
   ]
  },
  {
   "cell_type": "markdown",
   "metadata": {},
   "source": [
    "### *Let's read in this data set in Stata format using the Python pandas package*"
   ]
  },
  {
   "cell_type": "code",
   "execution_count": 2,
   "metadata": {},
   "outputs": [
    {
     "data": {
      "text/html": [
       "<div>\n",
       "<style scoped>\n",
       "    .dataframe tbody tr th:only-of-type {\n",
       "        vertical-align: middle;\n",
       "    }\n",
       "\n",
       "    .dataframe tbody tr th {\n",
       "        vertical-align: top;\n",
       "    }\n",
       "\n",
       "    .dataframe thead th {\n",
       "        text-align: right;\n",
       "    }\n",
       "</style>\n",
       "<table border=\"1\" class=\"dataframe\">\n",
       "  <thead>\n",
       "    <tr style=\"text-align: right;\">\n",
       "      <th></th>\n",
       "      <th>id</th>\n",
       "      <th>educ</th>\n",
       "      <th>date</th>\n",
       "      <th>state</th>\n",
       "      <th>regprc</th>\n",
       "      <th>ecoprc</th>\n",
       "      <th>inseason</th>\n",
       "      <th>hhsize</th>\n",
       "      <th>male</th>\n",
       "      <th>faminc</th>\n",
       "      <th>age</th>\n",
       "      <th>reglbs</th>\n",
       "      <th>ecolbs</th>\n",
       "      <th>numlt5</th>\n",
       "      <th>num5_17</th>\n",
       "      <th>num18_64</th>\n",
       "      <th>numgt64</th>\n",
       "    </tr>\n",
       "  </thead>\n",
       "  <tbody>\n",
       "    <tr>\n",
       "      <td>650</td>\n",
       "      <td>13872</td>\n",
       "      <td>14</td>\n",
       "      <td>20298</td>\n",
       "      <td>IL</td>\n",
       "      <td>1.19</td>\n",
       "      <td>1.59</td>\n",
       "      <td>0</td>\n",
       "      <td>3</td>\n",
       "      <td>1</td>\n",
       "      <td>25</td>\n",
       "      <td>38</td>\n",
       "      <td>0.000000</td>\n",
       "      <td>3.000000</td>\n",
       "      <td>0</td>\n",
       "      <td>2</td>\n",
       "      <td>1</td>\n",
       "      <td>0</td>\n",
       "    </tr>\n",
       "    <tr>\n",
       "      <td>651</td>\n",
       "      <td>13875</td>\n",
       "      <td>15</td>\n",
       "      <td>20498</td>\n",
       "      <td>TX</td>\n",
       "      <td>1.19</td>\n",
       "      <td>1.59</td>\n",
       "      <td>0</td>\n",
       "      <td>2</td>\n",
       "      <td>0</td>\n",
       "      <td>15</td>\n",
       "      <td>52</td>\n",
       "      <td>0.000000</td>\n",
       "      <td>0.000000</td>\n",
       "      <td>0</td>\n",
       "      <td>0</td>\n",
       "      <td>1</td>\n",
       "      <td>1</td>\n",
       "    </tr>\n",
       "    <tr>\n",
       "      <td>652</td>\n",
       "      <td>13879</td>\n",
       "      <td>16</td>\n",
       "      <td>20998</td>\n",
       "      <td>TX</td>\n",
       "      <td>1.19</td>\n",
       "      <td>1.59</td>\n",
       "      <td>0</td>\n",
       "      <td>3</td>\n",
       "      <td>1</td>\n",
       "      <td>65</td>\n",
       "      <td>46</td>\n",
       "      <td>2.000000</td>\n",
       "      <td>0.000000</td>\n",
       "      <td>0</td>\n",
       "      <td>1</td>\n",
       "      <td>2</td>\n",
       "      <td>0</td>\n",
       "    </tr>\n",
       "    <tr>\n",
       "      <td>653</td>\n",
       "      <td>13884</td>\n",
       "      <td>16</td>\n",
       "      <td>20598</td>\n",
       "      <td>MN</td>\n",
       "      <td>0.59</td>\n",
       "      <td>0.79</td>\n",
       "      <td>0</td>\n",
       "      <td>4</td>\n",
       "      <td>0</td>\n",
       "      <td>130</td>\n",
       "      <td>45</td>\n",
       "      <td>10.000000</td>\n",
       "      <td>0.000000</td>\n",
       "      <td>0</td>\n",
       "      <td>2</td>\n",
       "      <td>2</td>\n",
       "      <td>0</td>\n",
       "    </tr>\n",
       "    <tr>\n",
       "      <td>654</td>\n",
       "      <td>13887</td>\n",
       "      <td>10</td>\n",
       "      <td>20498</td>\n",
       "      <td>PA</td>\n",
       "      <td>1.19</td>\n",
       "      <td>1.59</td>\n",
       "      <td>0</td>\n",
       "      <td>1</td>\n",
       "      <td>0</td>\n",
       "      <td>5</td>\n",
       "      <td>75</td>\n",
       "      <td>0.000000</td>\n",
       "      <td>0.000000</td>\n",
       "      <td>0</td>\n",
       "      <td>0</td>\n",
       "      <td>0</td>\n",
       "      <td>1</td>\n",
       "    </tr>\n",
       "    <tr>\n",
       "      <td>655</td>\n",
       "      <td>13892</td>\n",
       "      <td>14</td>\n",
       "      <td>20298</td>\n",
       "      <td>MD</td>\n",
       "      <td>0.59</td>\n",
       "      <td>0.59</td>\n",
       "      <td>0</td>\n",
       "      <td>5</td>\n",
       "      <td>0</td>\n",
       "      <td>65</td>\n",
       "      <td>37</td>\n",
       "      <td>1.333333</td>\n",
       "      <td>1.333333</td>\n",
       "      <td>1</td>\n",
       "      <td>2</td>\n",
       "      <td>2</td>\n",
       "      <td>0</td>\n",
       "    </tr>\n",
       "    <tr>\n",
       "      <td>656</td>\n",
       "      <td>13893</td>\n",
       "      <td>16</td>\n",
       "      <td>20398</td>\n",
       "      <td>OH</td>\n",
       "      <td>0.59</td>\n",
       "      <td>0.59</td>\n",
       "      <td>0</td>\n",
       "      <td>4</td>\n",
       "      <td>0</td>\n",
       "      <td>65</td>\n",
       "      <td>47</td>\n",
       "      <td>0.000000</td>\n",
       "      <td>2.000000</td>\n",
       "      <td>0</td>\n",
       "      <td>2</td>\n",
       "      <td>2</td>\n",
       "      <td>0</td>\n",
       "    </tr>\n",
       "    <tr>\n",
       "      <td>657</td>\n",
       "      <td>13908</td>\n",
       "      <td>16</td>\n",
       "      <td>20398</td>\n",
       "      <td>IN</td>\n",
       "      <td>0.89</td>\n",
       "      <td>1.09</td>\n",
       "      <td>0</td>\n",
       "      <td>2</td>\n",
       "      <td>0</td>\n",
       "      <td>75</td>\n",
       "      <td>51</td>\n",
       "      <td>1.000000</td>\n",
       "      <td>0.000000</td>\n",
       "      <td>0</td>\n",
       "      <td>0</td>\n",
       "      <td>2</td>\n",
       "      <td>0</td>\n",
       "    </tr>\n",
       "    <tr>\n",
       "      <td>658</td>\n",
       "      <td>13916</td>\n",
       "      <td>12</td>\n",
       "      <td>20298</td>\n",
       "      <td>NY</td>\n",
       "      <td>0.59</td>\n",
       "      <td>0.59</td>\n",
       "      <td>0</td>\n",
       "      <td>1</td>\n",
       "      <td>0</td>\n",
       "      <td>15</td>\n",
       "      <td>45</td>\n",
       "      <td>0.000000</td>\n",
       "      <td>2.666667</td>\n",
       "      <td>0</td>\n",
       "      <td>0</td>\n",
       "      <td>1</td>\n",
       "      <td>0</td>\n",
       "    </tr>\n",
       "    <tr>\n",
       "      <td>659</td>\n",
       "      <td>13921</td>\n",
       "      <td>18</td>\n",
       "      <td>20798</td>\n",
       "      <td>MA</td>\n",
       "      <td>1.19</td>\n",
       "      <td>1.39</td>\n",
       "      <td>0</td>\n",
       "      <td>3</td>\n",
       "      <td>1</td>\n",
       "      <td>25</td>\n",
       "      <td>24</td>\n",
       "      <td>2.000000</td>\n",
       "      <td>0.000000</td>\n",
       "      <td>0</td>\n",
       "      <td>0</td>\n",
       "      <td>3</td>\n",
       "      <td>0</td>\n",
       "    </tr>\n",
       "  </tbody>\n",
       "</table>\n",
       "</div>"
      ],
      "text/plain": [
       "        id  educ   date state  regprc  ecoprc  inseason  hhsize  male  faminc  \\\n",
       "650  13872    14  20298    IL    1.19    1.59         0       3     1      25   \n",
       "651  13875    15  20498    TX    1.19    1.59         0       2     0      15   \n",
       "652  13879    16  20998    TX    1.19    1.59         0       3     1      65   \n",
       "653  13884    16  20598    MN    0.59    0.79         0       4     0     130   \n",
       "654  13887    10  20498    PA    1.19    1.59         0       1     0       5   \n",
       "655  13892    14  20298    MD    0.59    0.59         0       5     0      65   \n",
       "656  13893    16  20398    OH    0.59    0.59         0       4     0      65   \n",
       "657  13908    16  20398    IN    0.89    1.09         0       2     0      75   \n",
       "658  13916    12  20298    NY    0.59    0.59         0       1     0      15   \n",
       "659  13921    18  20798    MA    1.19    1.39         0       3     1      25   \n",
       "\n",
       "     age     reglbs    ecolbs  numlt5  num5_17  num18_64  numgt64  \n",
       "650   38   0.000000  3.000000       0        2         1        0  \n",
       "651   52   0.000000  0.000000       0        0         1        1  \n",
       "652   46   2.000000  0.000000       0        1         2        0  \n",
       "653   45  10.000000  0.000000       0        2         2        0  \n",
       "654   75   0.000000  0.000000       0        0         0        1  \n",
       "655   37   1.333333  1.333333       1        2         2        0  \n",
       "656   47   0.000000  2.000000       0        2         2        0  \n",
       "657   51   1.000000  0.000000       0        0         2        0  \n",
       "658   45   0.000000  2.666667       0        0         1        0  \n",
       "659   24   2.000000  0.000000       0        0         3        0  "
      ]
     },
     "execution_count": 2,
     "metadata": {},
     "output_type": "execute_result"
    }
   ],
   "source": [
    "apdf=pd.read_stata('http://fmwww.bc.edu/ec-p/data/wooldridge/apple.dta')  # Pandas function to read in a Stata dataset to a Pandas dataframe\n",
    "apdf.tail(10) "
   ]
  },
  {
   "cell_type": "code",
   "execution_count": 3,
   "metadata": {},
   "outputs": [
    {
     "data": {
      "text/plain": [
       "(660, 17)"
      ]
     },
     "execution_count": 3,
     "metadata": {},
     "output_type": "execute_result"
    }
   ],
   "source": [
    "apdf.shape"
   ]
  },
  {
   "cell_type": "markdown",
   "metadata": {},
   "source": [
    "#### *Some special features of this data!*\n",
    "- ***it's from a survey, people didn't actually go out and buy apples at these prices***\n",
    " + *this is called \"**stated preference**\" data (vs. \"**revealed preference**\")*\n",
    "  + *it may be less reliable than actual revealed purchasing behavior*\n",
    "+ ***but it has some advantages when we think about the statistical problems we face in estimating a demand curve***\n",
    "    - *the researchers randomly selected the apple prices they presented to their randomly selected households*\n",
    "    - *can anyone think of any reasons this randomization might be useful?*\n"
   ]
  },
  {
   "cell_type": "markdown",
   "metadata": {},
   "source": [
    "### Question 1.\n",
    "All the questions in this exercise can be addressed using methods described in Jupyter notebooks we previously discussed in class. \n",
    "\n",
    "* Please report basic summary statistics for all numeric variables in this data set (number non-missing observations, mean, median, standard deviation, min, max)\n",
    "\n",
    "#### Answer here:"
   ]
  },
  {
   "cell_type": "code",
   "execution_count": 4,
   "metadata": {},
   "outputs": [
    {
     "data": {
      "text/html": [
       "<div>\n",
       "<style scoped>\n",
       "    .dataframe tbody tr th:only-of-type {\n",
       "        vertical-align: middle;\n",
       "    }\n",
       "\n",
       "    .dataframe tbody tr th {\n",
       "        vertical-align: top;\n",
       "    }\n",
       "\n",
       "    .dataframe thead th {\n",
       "        text-align: right;\n",
       "    }\n",
       "</style>\n",
       "<table border=\"1\" class=\"dataframe\">\n",
       "  <thead>\n",
       "    <tr style=\"text-align: right;\">\n",
       "      <th></th>\n",
       "      <th>id</th>\n",
       "      <th>educ</th>\n",
       "      <th>regprc</th>\n",
       "      <th>ecoprc</th>\n",
       "      <th>inseason</th>\n",
       "      <th>hhsize</th>\n",
       "      <th>male</th>\n",
       "      <th>faminc</th>\n",
       "      <th>age</th>\n",
       "      <th>reglbs</th>\n",
       "      <th>ecolbs</th>\n",
       "      <th>numlt5</th>\n",
       "      <th>num5_17</th>\n",
       "      <th>num18_64</th>\n",
       "      <th>numgt64</th>\n",
       "    </tr>\n",
       "  </thead>\n",
       "  <tbody>\n",
       "    <tr>\n",
       "      <td>count</td>\n",
       "      <td>660.000000</td>\n",
       "      <td>660.000000</td>\n",
       "      <td>660.000000</td>\n",
       "      <td>660.000000</td>\n",
       "      <td>660.000000</td>\n",
       "      <td>660.000000</td>\n",
       "      <td>660.000000</td>\n",
       "      <td>660.000000</td>\n",
       "      <td>660.000000</td>\n",
       "      <td>660.000000</td>\n",
       "      <td>660.00000</td>\n",
       "      <td>660.000000</td>\n",
       "      <td>660.000000</td>\n",
       "      <td>660.000000</td>\n",
       "      <td>660.000000</td>\n",
       "    </tr>\n",
       "    <tr>\n",
       "      <td>mean</td>\n",
       "      <td>11729.009091</td>\n",
       "      <td>14.381818</td>\n",
       "      <td>0.882730</td>\n",
       "      <td>1.081517</td>\n",
       "      <td>0.336364</td>\n",
       "      <td>2.940909</td>\n",
       "      <td>0.262121</td>\n",
       "      <td>53.409091</td>\n",
       "      <td>44.522727</td>\n",
       "      <td>1.282323</td>\n",
       "      <td>1.47399</td>\n",
       "      <td>0.286364</td>\n",
       "      <td>0.621212</td>\n",
       "      <td>1.804545</td>\n",
       "      <td>0.228788</td>\n",
       "    </tr>\n",
       "    <tr>\n",
       "      <td>std</td>\n",
       "      <td>1071.582702</td>\n",
       "      <td>2.274014</td>\n",
       "      <td>0.244469</td>\n",
       "      <td>0.295573</td>\n",
       "      <td>0.472823</td>\n",
       "      <td>1.526049</td>\n",
       "      <td>0.440122</td>\n",
       "      <td>35.741220</td>\n",
       "      <td>15.212539</td>\n",
       "      <td>2.909872</td>\n",
       "      <td>2.52578</td>\n",
       "      <td>0.643489</td>\n",
       "      <td>0.994143</td>\n",
       "      <td>1.005136</td>\n",
       "      <td>0.548765</td>\n",
       "    </tr>\n",
       "    <tr>\n",
       "      <td>min</td>\n",
       "      <td>10002.000000</td>\n",
       "      <td>8.000000</td>\n",
       "      <td>0.590000</td>\n",
       "      <td>0.590000</td>\n",
       "      <td>0.000000</td>\n",
       "      <td>1.000000</td>\n",
       "      <td>0.000000</td>\n",
       "      <td>5.000000</td>\n",
       "      <td>19.000000</td>\n",
       "      <td>0.000000</td>\n",
       "      <td>0.00000</td>\n",
       "      <td>0.000000</td>\n",
       "      <td>0.000000</td>\n",
       "      <td>0.000000</td>\n",
       "      <td>0.000000</td>\n",
       "    </tr>\n",
       "    <tr>\n",
       "      <td>25%</td>\n",
       "      <td>10800.500000</td>\n",
       "      <td>12.000000</td>\n",
       "      <td>0.590000</td>\n",
       "      <td>0.890000</td>\n",
       "      <td>0.000000</td>\n",
       "      <td>2.000000</td>\n",
       "      <td>0.000000</td>\n",
       "      <td>25.000000</td>\n",
       "      <td>33.000000</td>\n",
       "      <td>0.000000</td>\n",
       "      <td>0.00000</td>\n",
       "      <td>0.000000</td>\n",
       "      <td>0.000000</td>\n",
       "      <td>1.000000</td>\n",
       "      <td>0.000000</td>\n",
       "    </tr>\n",
       "    <tr>\n",
       "      <td>50%</td>\n",
       "      <td>11692.000000</td>\n",
       "      <td>14.000000</td>\n",
       "      <td>0.890000</td>\n",
       "      <td>1.090000</td>\n",
       "      <td>0.000000</td>\n",
       "      <td>3.000000</td>\n",
       "      <td>0.000000</td>\n",
       "      <td>45.000000</td>\n",
       "      <td>43.000000</td>\n",
       "      <td>0.000000</td>\n",
       "      <td>1.00000</td>\n",
       "      <td>0.000000</td>\n",
       "      <td>0.000000</td>\n",
       "      <td>2.000000</td>\n",
       "      <td>0.000000</td>\n",
       "    </tr>\n",
       "    <tr>\n",
       "      <td>75%</td>\n",
       "      <td>12600.250000</td>\n",
       "      <td>16.000000</td>\n",
       "      <td>1.190000</td>\n",
       "      <td>1.290000</td>\n",
       "      <td>1.000000</td>\n",
       "      <td>4.000000</td>\n",
       "      <td>1.000000</td>\n",
       "      <td>65.000000</td>\n",
       "      <td>53.000000</td>\n",
       "      <td>2.000000</td>\n",
       "      <td>2.00000</td>\n",
       "      <td>0.000000</td>\n",
       "      <td>1.000000</td>\n",
       "      <td>2.000000</td>\n",
       "      <td>0.000000</td>\n",
       "    </tr>\n",
       "    <tr>\n",
       "      <td>max</td>\n",
       "      <td>13921.000000</td>\n",
       "      <td>20.000000</td>\n",
       "      <td>1.190000</td>\n",
       "      <td>1.590000</td>\n",
       "      <td>1.000000</td>\n",
       "      <td>9.000000</td>\n",
       "      <td>1.000000</td>\n",
       "      <td>250.000000</td>\n",
       "      <td>88.000000</td>\n",
       "      <td>42.000000</td>\n",
       "      <td>42.00000</td>\n",
       "      <td>4.000000</td>\n",
       "      <td>6.000000</td>\n",
       "      <td>7.000000</td>\n",
       "      <td>3.000000</td>\n",
       "    </tr>\n",
       "  </tbody>\n",
       "</table>\n",
       "</div>"
      ],
      "text/plain": [
       "                 id        educ      regprc      ecoprc    inseason  \\\n",
       "count    660.000000  660.000000  660.000000  660.000000  660.000000   \n",
       "mean   11729.009091   14.381818    0.882730    1.081517    0.336364   \n",
       "std     1071.582702    2.274014    0.244469    0.295573    0.472823   \n",
       "min    10002.000000    8.000000    0.590000    0.590000    0.000000   \n",
       "25%    10800.500000   12.000000    0.590000    0.890000    0.000000   \n",
       "50%    11692.000000   14.000000    0.890000    1.090000    0.000000   \n",
       "75%    12600.250000   16.000000    1.190000    1.290000    1.000000   \n",
       "max    13921.000000   20.000000    1.190000    1.590000    1.000000   \n",
       "\n",
       "           hhsize        male      faminc         age      reglbs     ecolbs  \\\n",
       "count  660.000000  660.000000  660.000000  660.000000  660.000000  660.00000   \n",
       "mean     2.940909    0.262121   53.409091   44.522727    1.282323    1.47399   \n",
       "std      1.526049    0.440122   35.741220   15.212539    2.909872    2.52578   \n",
       "min      1.000000    0.000000    5.000000   19.000000    0.000000    0.00000   \n",
       "25%      2.000000    0.000000   25.000000   33.000000    0.000000    0.00000   \n",
       "50%      3.000000    0.000000   45.000000   43.000000    0.000000    1.00000   \n",
       "75%      4.000000    1.000000   65.000000   53.000000    2.000000    2.00000   \n",
       "max      9.000000    1.000000  250.000000   88.000000   42.000000   42.00000   \n",
       "\n",
       "           numlt5     num5_17    num18_64     numgt64  \n",
       "count  660.000000  660.000000  660.000000  660.000000  \n",
       "mean     0.286364    0.621212    1.804545    0.228788  \n",
       "std      0.643489    0.994143    1.005136    0.548765  \n",
       "min      0.000000    0.000000    0.000000    0.000000  \n",
       "25%      0.000000    0.000000    1.000000    0.000000  \n",
       "50%      0.000000    0.000000    2.000000    0.000000  \n",
       "75%      0.000000    1.000000    2.000000    0.000000  \n",
       "max      4.000000    6.000000    7.000000    3.000000  "
      ]
     },
     "execution_count": 4,
     "metadata": {},
     "output_type": "execute_result"
    }
   ],
   "source": [
    "apdf.describe()"
   ]
  },
  {
   "cell_type": "markdown",
   "metadata": {},
   "source": [
    "#### Question 2.\n",
    "\n",
    "* Please create a scatter plot showing the relationship between the quantity of regular apples demanded and regular apple price. This time, use the Pandas plot method to create your graph. Economists like to put quantity on the x-axis, price on the y-axis. It's an arcane tradition going back to 19th century economist Alfred Marshall.\n",
    "\n",
    "#### Answer here:"
   ]
  },
  {
   "cell_type": "code",
   "execution_count": 8,
   "metadata": {},
   "outputs": [
    {
     "data": {
      "text/plain": [
       "<matplotlib.axes._subplots.AxesSubplot at 0x1a254a8f50>"
      ]
     },
     "execution_count": 8,
     "metadata": {},
     "output_type": "execute_result"
    },
    {
     "data": {
      "image/png": "[encoded data removed]",
      "text/plain": [
       "<Figure size 432x288 with 1 Axes>"
      ]
     },
     "metadata": {
      "needs_background": "light"
     },
     "output_type": "display_data"
    }
   ],
   "source": [
    "apdf.plot.scatter('reglbs', 'regprc')"
   ]
  },
  {
   "cell_type": "markdown",
   "metadata": {},
   "source": [
    "### Question 3.\n",
    "\n",
    "Please create a scatter plot showing the relationship between the quantity of ecolabelled apples demanded and ecolabelled apple price. For the moment, use the Pandas plot method.\n",
    "\n",
    "#### Answer here:"
   ]
  },
  {
   "cell_type": "code",
   "execution_count": 9,
   "metadata": {},
   "outputs": [
    {
     "data": {
      "text/plain": [
       "<matplotlib.axes._subplots.AxesSubplot at 0x1a252f7810>"
      ]
     },
     "execution_count": 9,
     "metadata": {},
     "output_type": "execute_result"
    },
    {
     "data": {
      "image/png": "[encoded data removed]",
      "text/plain": [
       "<Figure size 432x288 with 1 Axes>"
      ]
     },
     "metadata": {
      "needs_background": "light"
     },
     "output_type": "display_data"
    }
   ],
   "source": [
    "apdf.plot.scatter('ecolbs', 'ecoprc')"
   ]
  },
  {
   "cell_type": "markdown",
   "metadata": {},
   "source": [
    "#### Question 4\n",
    "\n",
    "One object-oriented alternative to make the last figure you just created is\n"
   ]
  },
  {
   "cell_type": "code",
   "execution_count": 10,
   "metadata": {},
   "outputs": [
    {
     "data": {
      "text/plain": [
       "Text(0.5, 0, 'apple quantity')"
      ]
     },
     "execution_count": 10,
     "metadata": {},
     "output_type": "execute_result"
    },
    {
     "data": {
      "image/png": "[encoded data removed]",
      "text/plain": [
       "<Figure size 432x288 with 1 Axes>"
      ]
     },
     "metadata": {
      "needs_background": "light"
     },
     "output_type": "display_data"
    }
   ],
   "source": [
    "fig, ax=plt.subplots() # first line creates a blank figure and axis\n",
    "ax.plot(apdf.ecolbs,apdf.ecoprc,ls='None',marker='o') # this line does the actual plotting; \n",
    "# we are using \"dot notation\" so as to not type lots of ''s and ['s\n",
    "# ls is matplotlib-accepted abbreviation for \"linestyle\",otherwise would have to write out linestyle\n",
    "ax.set_ylabel('apple price')\n",
    "ax.set_xlabel('apple quantity')"
   ]
  },
  {
   "cell_type": "markdown",
   "metadata": {},
   "source": [
    "Actually, that improved it since I like these labels better than the plot method's default names (the variable names). The following code is equivalent."
   ]
  },
  {
   "cell_type": "code",
   "execution_count": 11,
   "metadata": {},
   "outputs": [
    {
     "data": {
      "text/plain": [
       "Text(0.5, 0, 'apple quantity')"
      ]
     },
     "execution_count": 11,
     "metadata": {},
     "output_type": "execute_result"
    },
    {
     "data": {
      "image/png": "[encoded data removed]",
      "text/plain": [
       "<Figure size 432x288 with 1 Axes>"
      ]
     },
     "metadata": {
      "needs_background": "light"
     },
     "output_type": "display_data"
    }
   ],
   "source": [
    "fig, ax=plt.subplots() # first line creates a blank figure and axis\n",
    "ax.plot(apdf['ecolbs'],apdf['ecoprc'],linestyle='None',marker='o') # this line does the actual plotting; same but typing lots of ''s and ['s\n",
    "ax.set_ylabel('apple price')\n",
    "ax.set_xlabel('apple quantity')"
   ]
  },
  {
   "cell_type": "markdown",
   "metadata": {},
   "source": [
    "* Now, please use the object-oriented syntax to create an eco apple scatter plot where the brightness of the color indicates how many data points occupy the same coordinates.\n",
    "    \n",
    "    Hint: the matplotlib plot method has a parameter alpha which determines how transparent colors are. Try redoing this plot with the alpha parameter set to 20 percent. \n",
    "\n",
    "    To add this parameter, just type a comma after the y-variable followed by `alpha=.2`.\n",
    "    \n",
    "#### Answer here:"
   ]
  },
  {
   "cell_type": "code",
   "execution_count": 12,
   "metadata": {},
   "outputs": [
    {
     "data": {
      "text/plain": [
       "Text(0.5, 0, 'apple quantity')"
      ]
     },
     "execution_count": 12,
     "metadata": {},
     "output_type": "execute_result"
    },
    {
     "data": {
      "image/png": "[encoded data removed]",
      "text/plain": [
       "<Figure size 432x288 with 1 Axes>"
      ]
     },
     "metadata": {
      "needs_background": "light"
     },
     "output_type": "display_data"
    }
   ],
   "source": [
    "fig, ax=plt.subplots() # first line creates a blank figure and axis\n",
    "ax.plot(apdf['ecolbs'],apdf['ecoprc'],linestyle='None',marker='o', alpha = 0.2) # this line does the actual plotting; same but typing lots of ''s and ['s\n",
    "ax.set_ylabel('apple price')\n",
    "ax.set_xlabel('apple quantity')"
   ]
  },
  {
   "cell_type": "markdown",
   "metadata": {},
   "source": [
    "### Question 5-- More advanced plots \n",
    "\n",
    "* Now, please create a scatter plot with both regular and ecolabelled apple quantities and prices occupying the same plot.\n",
    "    * Hint: one easy way to do this is to use 2 ax.plot commands-- one for each pair of x,y variables. Be sure to leave alpha set equal to .2, to improve data visualization.\n",
    "    \n",
    "#### Answer here:"
   ]
  },
  {
   "cell_type": "code",
   "execution_count": 17,
   "metadata": {},
   "outputs": [
    {
     "data": {
      "text/plain": [
       "Text(0.5, 0, 'apple quantity')"
      ]
     },
     "execution_count": 17,
     "metadata": {},
     "output_type": "execute_result"
    },
    {
     "data": {
      "image/png": "[encoded data removed]",
      "text/plain": [
       "<Figure size 432x288 with 1 Axes>"
      ]
     },
     "metadata": {
      "needs_background": "light"
     },
     "output_type": "display_data"
    }
   ],
   "source": [
    "fig, ax=plt.subplots() # first line creates a blank figure and axis\n",
    "ax.plot(apdf['ecolbs'],apdf['ecoprc'],linestyle='None',marker='o', alpha = 0.2, color = 'DarkBlue', label = 'Eco-labeled');ax.plot(apdf['reglbs'],apdf['regprc'],linestyle='None',marker='o', alpha = 0.2, color = 'Red', label = 'Regular-labeled'); # this line does the actual plotting; same but typing lots of ''s and ['s\n",
    "ax.set_ylabel('apple price')\n",
    "ax.set_xlabel('apple quantity')"
   ]
  },
  {
   "cell_type": "markdown",
   "metadata": {},
   "source": [
    "#### Question 6\n",
    "It would be nice to have a legend linking marker color to whether the apple was ecolabelled or regular.\n",
    "* Please add such a legend to the last figure.\n",
    "    * Hint: `ax.legend()` with a list of strings for the names of the y-variables as the argument inside the parens will do the trick.\n",
    "    \n",
    "#### Answer here:"
   ]
  },
  {
   "cell_type": "code",
   "execution_count": 16,
   "metadata": {},
   "outputs": [
    {
     "data": {
      "text/plain": [
       "<matplotlib.legend.Legend at 0x1a25f52a90>"
      ]
     },
     "execution_count": 16,
     "metadata": {},
     "output_type": "execute_result"
    },
    {
     "data": {
      "image/png": "[encoded data removed]",
      "text/plain": [
       "<Figure size 432x288 with 1 Axes>"
      ]
     },
     "metadata": {
      "needs_background": "light"
     },
     "output_type": "display_data"
    }
   ],
   "source": [
    "fig, ax=plt.subplots() # first line creates a blank figure and axis\n",
    "ax.plot(apdf['ecolbs'],apdf['ecoprc'],linestyle='None',marker='o', alpha = 0.2, color = 'DarkBlue', label = 'Eco-labeled');ax.plot(apdf['reglbs'],apdf['regprc'],linestyle='None',marker='o', alpha = 0.2, color = 'Red', label = 'Regular-labeled'); # this line does the actual plotting; same but typing lots of ''s and ['s\n",
    "ax.set_ylabel('apple price')\n",
    "ax.set_xlabel('apple quantity')\n",
    "ax.legend()"
   ]
  },
  {
   "cell_type": "markdown",
   "metadata": {},
   "source": [
    "#### Question 7\n",
    "First, use help to get an extensive list of parameters you can set."
   ]
  },
  {
   "cell_type": "code",
   "execution_count": 18,
   "metadata": {},
   "outputs": [
    {
     "data": {
      "image/png": "[encoded data removed]",
      "text/plain": [
       "<Figure size 432x288 with 1 Axes>"
      ]
     },
     "metadata": {
      "needs_background": "light"
     },
     "output_type": "display_data"
    },
    {
     "data": {
      "text/plain": [
       "\u001b[0;31mSignature:\u001b[0m \u001b[0max\u001b[0m\u001b[0;34m.\u001b[0m\u001b[0mplot\u001b[0m\u001b[0;34m(\u001b[0m\u001b[0;34m*\u001b[0m\u001b[0margs\u001b[0m\u001b[0;34m,\u001b[0m \u001b[0mscalex\u001b[0m\u001b[0;34m=\u001b[0m\u001b[0;32mTrue\u001b[0m\u001b[0;34m,\u001b[0m \u001b[0mscaley\u001b[0m\u001b[0;34m=\u001b[0m\u001b[0;32mTrue\u001b[0m\u001b[0;34m,\u001b[0m \u001b[0mdata\u001b[0m\u001b[0;34m=\u001b[0m\u001b[0;32mNone\u001b[0m\u001b[0;34m,\u001b[0m \u001b[0;34m**\u001b[0m\u001b[0mkwargs\u001b[0m\u001b[0;34m)\u001b[0m\u001b[0;34m\u001b[0m\u001b[0;34m\u001b[0m\u001b[0m\n",
       "\u001b[0;31mDocstring:\u001b[0m\n",
       "Plot y versus x as lines and/or markers.\n",
       "\n",
       "Call signatures::\n",
       "\n",
       "    plot([x], y, [fmt], *, data=None, **kwargs)\n",
       "    plot([x], y, [fmt], [x2], y2, [fmt2], ..., **kwargs)\n",
       "\n",
       "The coordinates of the points or line nodes are given by *x*, *y*.\n",
       "\n",
       "The optional parameter *fmt* is a convenient way for defining basic\n",
       "formatting like color, marker and linestyle. It's a shortcut string\n",
       "notation described in the *Notes* section below.\n",
       "\n",
       ">>> plot(x, y)        # plot x and y using default line style and color\n",
       ">>> plot(x, y, 'bo')  # plot x and y using blue circle markers\n",
       ">>> plot(y)           # plot y using x as index array 0..N-1\n",
       ">>> plot(y, 'r+')     # ditto, but with red plusses\n",
       "\n",
       "You can use `.Line2D` properties as keyword arguments for more\n",
       "control on the appearance. Line properties and *fmt* can be mixed.\n",
       "The following two calls yield identical results:\n",
       "\n",
       ">>> plot(x, y, 'go--', linewidth=2, markersize=12)\n",
       ">>> plot(x, y, color='green', marker='o', linestyle='dashed',\n",
       "...      linewidth=2, markersize=12)\n",
       "\n",
       "When conflicting with *fmt*, keyword arguments take precedence.\n",
       "\n",
       "\n",
       "**Plotting labelled data**\n",
       "\n",
       "There's a convenient way for plotting objects with labelled data (i.e.\n",
       "data that can be accessed by index ``obj['y']``). Instead of giving\n",
       "the data in *x* and *y*, you can provide the object in the *data*\n",
       "parameter and just give the labels for *x* and *y*::\n",
       "\n",
       ">>> plot('xlabel', 'ylabel', data=obj)\n",
       "\n",
       "All indexable objects are supported. This could e.g. be a `dict`, a\n",
       "`pandas.DataFame` or a structured numpy array.\n",
       "\n",
       "\n",
       "**Plotting multiple sets of data**\n",
       "\n",
       "There are various ways to plot multiple sets of data.\n",
       "\n",
       "- The most straight forward way is just to call `plot` multiple times.\n",
       "  Example:\n",
       "\n",
       "  >>> plot(x1, y1, 'bo')\n",
       "  >>> plot(x2, y2, 'go')\n",
       "\n",
       "- Alternatively, if your data is already a 2d array, you can pass it\n",
       "  directly to *x*, *y*. A separate data set will be drawn for every\n",
       "  column.\n",
       "\n",
       "  Example: an array ``a`` where the first column represents the *x*\n",
       "  values and the other columns are the *y* columns::\n",
       "\n",
       "  >>> plot(a[0], a[1:])\n",
       "\n",
       "- The third way is to specify multiple sets of *[x]*, *y*, *[fmt]*\n",
       "  groups::\n",
       "\n",
       "  >>> plot(x1, y1, 'g^', x2, y2, 'g-')\n",
       "\n",
       "  In this case, any additional keyword argument applies to all\n",
       "  datasets. Also this syntax cannot be combined with the *data*\n",
       "  parameter.\n",
       "\n",
       "By default, each line is assigned a different style specified by a\n",
       "'style cycle'. The *fmt* and line property parameters are only\n",
       "necessary if you want explicit deviations from these defaults.\n",
       "Alternatively, you can also change the style cycle using the\n",
       "'axes.prop_cycle' rcParam.\n",
       "\n",
       "\n",
       "Parameters\n",
       "----------\n",
       "x, y : array-like or scalar\n",
       "    The horizontal / vertical coordinates of the data points.\n",
       "    *x* values are optional and default to `range(len(y))`.\n",
       "\n",
       "    Commonly, these parameters are 1D arrays.\n",
       "\n",
       "    They can also be scalars, or two-dimensional (in that case, the\n",
       "    columns represent separate data sets).\n",
       "\n",
       "    These arguments cannot be passed as keywords.\n",
       "\n",
       "fmt : str, optional\n",
       "    A format string, e.g. 'ro' for red circles. See the *Notes*\n",
       "    section for a full description of the format strings.\n",
       "\n",
       "    Format strings are just an abbreviation for quickly setting\n",
       "    basic line properties. All of these and more can also be\n",
       "    controlled by keyword arguments.\n",
       "\n",
       "    This argument cannot be passed as keyword.\n",
       "\n",
       "data : indexable object, optional\n",
       "    An object with labelled data. If given, provide the label names to\n",
       "    plot in *x* and *y*.\n",
       "\n",
       "    .. note::\n",
       "        Technically there's a slight ambiguity in calls where the\n",
       "        second label is a valid *fmt*. `plot('n', 'o', data=obj)`\n",
       "        could be `plt(x, y)` or `plt(y, fmt)`. In such cases,\n",
       "        the former interpretation is chosen, but a warning is issued.\n",
       "        You may suppress the warning by adding an empty format string\n",
       "        `plot('n', 'o', '', data=obj)`.\n",
       "\n",
       "Other Parameters\n",
       "----------------\n",
       "scalex, scaley : bool, optional, default: True\n",
       "    These parameters determined if the view limits are adapted to\n",
       "    the data limits. The values are passed on to `autoscale_view`.\n",
       "\n",
       "**kwargs : `.Line2D` properties, optional\n",
       "    *kwargs* are used to specify properties like a line label (for\n",
       "    auto legends), linewidth, antialiasing, marker face color.\n",
       "    Example::\n",
       "\n",
       "    >>> plot([1,2,3], [1,2,3], 'go-', label='line 1', linewidth=2)\n",
       "    >>> plot([1,2,3], [1,4,9], 'rs',  label='line 2')\n",
       "\n",
       "    If you make multiple lines with one plot command, the kwargs\n",
       "    apply to all those lines.\n",
       "\n",
       "    Here is a list of available `.Line2D` properties:\n",
       "\n",
       "  agg_filter: a filter function, which takes a (m, n, 3) float array and a dpi value, and returns a (m, n, 3) array\n",
       "  alpha: float\n",
       "  animated: bool\n",
       "  antialiased or aa: bool\n",
       "  clip_box: `.Bbox`\n",
       "  clip_on: bool\n",
       "  clip_path: [(`~matplotlib.path.Path`, `.Transform`) | `.Patch` | None]\n",
       "  color or c: color\n",
       "  contains: callable\n",
       "  dash_capstyle: {'butt', 'round', 'projecting'}\n",
       "  dash_joinstyle: {'miter', 'round', 'bevel'}\n",
       "  dashes: sequence of floats (on/off ink in points) or (None, None)\n",
       "  drawstyle or ds: {'default', 'steps', 'steps-pre', 'steps-mid', 'steps-post'}, default: 'default'\n",
       "  figure: `.Figure`\n",
       "  fillstyle: {'full', 'left', 'right', 'bottom', 'top', 'none'}\n",
       "  gid: str\n",
       "  in_layout: bool\n",
       "  label: object\n",
       "  linestyle or ls: {'-', '--', '-.', ':', '', (offset, on-off-seq), ...}\n",
       "  linewidth or lw: float\n",
       "  marker: marker style\n",
       "  markeredgecolor or mec: color\n",
       "  markeredgewidth or mew: float\n",
       "  markerfacecolor or mfc: color\n",
       "  markerfacecoloralt or mfcalt: color\n",
       "  markersize or ms: float\n",
       "  markevery: None or int or (int, int) or slice or List[int] or float or (float, float)\n",
       "  path_effects: `.AbstractPathEffect`\n",
       "  picker: float or callable[[Artist, Event], Tuple[bool, dict]]\n",
       "  pickradius: float\n",
       "  rasterized: bool or None\n",
       "  sketch_params: (scale: float, length: float, randomness: float)\n",
       "  snap: bool or None\n",
       "  solid_capstyle: {'butt', 'round', 'projecting'}\n",
       "  solid_joinstyle: {'miter', 'round', 'bevel'}\n",
       "  transform: `matplotlib.transforms.Transform`\n",
       "  url: str\n",
       "  visible: bool\n",
       "  xdata: 1D array\n",
       "  ydata: 1D array\n",
       "  zorder: float\n",
       "\n",
       "Returns\n",
       "-------\n",
       "lines\n",
       "    A list of `.Line2D` objects representing the plotted data.\n",
       "\n",
       "See Also\n",
       "--------\n",
       "scatter : XY scatter plot with markers of varying size and/or color (\n",
       "    sometimes also called bubble chart).\n",
       "\n",
       "Notes\n",
       "-----\n",
       "**Format Strings**\n",
       "\n",
       "A format string consists of a part for color, marker and line::\n",
       "\n",
       "    fmt = '[marker][line][color]'\n",
       "\n",
       "Each of them is optional. If not provided, the value from the style\n",
       "cycle is used. Exception: If ``line`` is given, but no ``marker``,\n",
       "the data will be a line without markers.\n",
       "\n",
       "Other combinations such as ``[color][marker][line]`` are also\n",
       "supported, but note that their parsing may be ambiguous.\n",
       "\n",
       "**Markers**\n",
       "\n",
       "=============    ===============================\n",
       "character        description\n",
       "=============    ===============================\n",
       "``'.'``          point marker\n",
       "``','``          pixel marker\n",
       "``'o'``          circle marker\n",
       "``'v'``          triangle_down marker\n",
       "``'^'``          triangle_up marker\n",
       "``'<'``          triangle_left marker\n",
       "``'>'``          triangle_right marker\n",
       "``'1'``          tri_down marker\n",
       "``'2'``          tri_up marker\n",
       "``'3'``          tri_left marker\n",
       "``'4'``          tri_right marker\n",
       "``'s'``          square marker\n",
       "``'p'``          pentagon marker\n",
       "``'*'``          star marker\n",
       "``'h'``          hexagon1 marker\n",
       "``'H'``          hexagon2 marker\n",
       "``'+'``          plus marker\n",
       "``'x'``          x marker\n",
       "``'D'``          diamond marker\n",
       "``'d'``          thin_diamond marker\n",
       "``'|'``          vline marker\n",
       "``'_'``          hline marker\n",
       "=============    ===============================\n",
       "\n",
       "**Line Styles**\n",
       "\n",
       "=============    ===============================\n",
       "character        description\n",
       "=============    ===============================\n",
       "``'-'``          solid line style\n",
       "``'--'``         dashed line style\n",
       "``'-.'``         dash-dot line style\n",
       "``':'``          dotted line style\n",
       "=============    ===============================\n",
       "\n",
       "Example format strings::\n",
       "\n",
       "    'b'    # blue markers with default shape\n",
       "    'or'   # red circles\n",
       "    '-g'   # green solid line\n",
       "    '--'   # dashed line with default color\n",
       "    '^k:'  # black triangle_up markers connected by a dotted line\n",
       "\n",
       "**Colors**\n",
       "\n",
       "The supported color abbreviations are the single letter codes\n",
       "\n",
       "=============    ===============================\n",
       "character        color\n",
       "=============    ===============================\n",
       "``'b'``          blue\n",
       "``'g'``          green\n",
       "``'r'``          red\n",
       "``'c'``          cyan\n",
       "``'m'``          magenta\n",
       "``'y'``          yellow\n",
       "``'k'``          black\n",
       "``'w'``          white\n",
       "=============    ===============================\n",
       "\n",
       "and the ``'CN'`` colors that index into the default property cycle.\n",
       "\n",
       "If the color is the only part of the format string, you can\n",
       "additionally use any  `matplotlib.colors` spec, e.g. full names\n",
       "(``'green'``) or hex strings (``'#008000'``).\n",
       "\u001b[0;31mFile:\u001b[0m      ~/opt/anaconda3/lib/python3.7/site-packages/matplotlib/axes/_axes.py\n",
       "\u001b[0;31mType:\u001b[0m      method\n"
      ]
     },
     "metadata": {},
     "output_type": "display_data"
    }
   ],
   "source": [
    "fig, ax=plt.subplots() # first line creates a blank figure and axis\n",
    "ax.plot?"
   ]
  },
  {
   "cell_type": "markdown",
   "metadata": {},
   "source": [
    "* Using help and google, see if you can figure out how to, in addition,\n",
    "    * change color of eco apples to green, regular to red\n",
    "    * change shape of eco marker to a square\n",
    "    * give the figure a title: \"Sample Prices vs. Quantities for Ecolabelled and Regular Apples\"\n",
    "    \n",
    "#### Answer here:"
   ]
  },
  {
   "cell_type": "code",
   "execution_count": 23,
   "metadata": {},
   "outputs": [
    {
     "data": {
      "text/plain": [
       "<matplotlib.legend.Legend at 0x1a25e99610>"
      ]
     },
     "execution_count": 23,
     "metadata": {},
     "output_type": "execute_result"
    },
    {
     "data": {
      "image/png": "[encoded data removed]",
      "text/plain": [
       "<Figure size 432x288 with 1 Axes>"
      ]
     },
     "metadata": {
      "needs_background": "light"
     },
     "output_type": "display_data"
    }
   ],
   "source": [
    "fig, ax=plt.subplots() # first line creates a blank figure and axis\n",
    "ax.plot(apdf['ecolbs'],apdf['ecoprc'],linestyle='None',marker='s', alpha = 0.2, color = 'Green', label = 'Eco-labeled');ax.plot(apdf['reglbs'],apdf['regprc'],linestyle='None',marker='o', alpha = 0.2, color = 'Red', label = 'Regular-labeled'); # this line does the actual plotting; same but typing lots of ''s and ['s\n",
    "ax.set_ylabel('apple price')\n",
    "ax.set_xlabel('apple quantity')\n",
    "ax.set_title('Sample Prices vs. Quantities for Ecolabelled and Regular Apples')\n",
    "ax.legend()"
   ]
  },
  {
   "cell_type": "code",
   "execution_count": null,
   "metadata": {},
   "outputs": [],
   "source": []
  }
 ],
 "metadata": {
  "kernelspec": {
   "display_name": "Python 3",
   "language": "python",
   "name": "python3"
  },
  "language_info": {
   "codemirror_mode": {
    "name": "ipython",
    "version": 3
   },
   "file_extension": ".py",
   "mimetype": "text/x-python",
   "name": "python",
   "nbconvert_exporter": "python",
   "pygments_lexer": "ipython3",
   "version": "3.7.4"
  }
 },
 "nbformat": 4,
 "nbformat_minor": 4
}
