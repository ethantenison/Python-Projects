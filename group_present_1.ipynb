{
 "cells": [
  {
   "cell_type": "markdown",
   "metadata": {},
   "source": [
    "## Presentation 1\n",
    "#### Spring 2020\n",
    "### Introduction\n",
    "Climate change is one of the apparent effects of the rapid economic growth that has occurred in most countries\n",
    "since the Industrial Revolution of the late 18th century. It is an important issue for economic\n",
    "policymaking, since governments need to assess how serious the problem is and then decide how to\n",
    "mitigate it. \n",
    "\n",
    "Suppose you on a policy advisory team for a nation. The government would like to know more about the\n",
    "extent of climate change and its possible causes, before they make decisions on how to mitigate its\n",
    "probable economic and social impacts, and whether or not to actively participate in internationally\n",
    "coordinated collective efforts to reduce global impacts.\n",
    "I would like you to select a (real!) grateful nation to receive your policy advice. Please determine the\n",
    "capital city of this country, and then find its geographic location (latitude and longitude).\n",
    " You are generally being asked to examine the following questions from the perspective of your specific\n",
    "country:\n",
    "\n",
    "1. How can we tell whether climate change will actually affect our nation?\n",
    "2. If it is real, how can we measure the extent of climate change and determine what is causing it?\n",
    "\n",
    "To answer the first question, you will analyze the behavior of environmental variables over time to see\n",
    "whether there are general patterns in environmental conditions that could be indicative of climate\n",
    "change. You will focus on temperature-related variables.\n",
    "To answer the second question, you will examine the degree of association between temperature and\n",
    "another variable, CO2 emissions, and consider whether there is a plausible relationship between the\n",
    "two, or whether there are other explanations for what you observe.\n",
    "You will do your analysis, plots, and write up, then submit your results in the form of a Jupyter\n",
    "notebook, making use of Python, Pandas, Matplotlib, as well as Numpy, statsmodels, or any other\n",
    "Python ecosystem packages you think useful. \n"
   ]
  },
  {
   "cell_type": "code",
   "execution_count": 2,
   "metadata": {},
   "outputs": [
    {
     "name": "stdout",
     "output_type": "stream",
     "text": [
      "Python version: 3.7.4 (default, Aug 13 2019, 15:17:50) \n",
      "[Clang 4.0.1 (tags/RELEASE_401/final)]\n",
      "Pandas version:  0.25.1\n",
      "['seaborn-dark', 'seaborn-darkgrid', 'seaborn-ticks', 'fivethirtyeight', 'seaborn-whitegrid', 'classic', '_classic_test', 'fast', 'seaborn-talk', 'seaborn-dark-palette', 'seaborn-bright', 'seaborn-pastel', 'grayscale', 'seaborn-notebook', 'ggplot', 'seaborn-colorblind', 'seaborn-muted', 'seaborn', 'Solarize_Light2', 'seaborn-paper', 'bmh', 'tableau-colorblind10', 'seaborn-white', 'dark_background', 'seaborn-poster', 'seaborn-deep']\n"
     ]
    }
   ],
   "source": [
    "# the usual suspects...\n",
    "import numpy as np                  # pandas uses numpy, and sometimes want to use numpy within pandas\n",
    "import pandas as pd                    # data package, redundant since already did\n",
    "import matplotlib.pyplot as plt               # graphics package\n",
    "import seaborn as sns               # makes matplotlib prettier without issuing a single command!\n",
    "import datetime as dt                  # date and time module, often need to use\n",
    "import sys \n",
    "\n",
    "# check versions (overkill, but why not?)\n",
    "print('Python version:', sys.version)\n",
    "print('Pandas version: ', pd.__version__)\n",
    "\n",
    "print(plt.style.available)\n",
    "plt.style.use('fivethirtyeight')\n",
    "%matplotlib inline "
   ]
  },
  {
   "cell_type": "markdown",
   "metadata": {},
   "source": [
    "### Part 1\n",
    "In the questions below, you will analyze data from NASA about land-ocean temperature anomalies in\n",
    "the northern hemisphere from 1880 to 2016. Figure 1 is constructed using this data and shows\n",
    "temperatures in three latitude bands over the period 1880–2016, expressed as differences from\n",
    "the average temperature from 1951 to 1980. We start by creating a plot for the latitude band your country is situated in, similar to Figure 1 (but without the smoothed trend line), in order to visualize the data and spot patterns more easily.\n",
    "### Figure 1\n",
    "![Image](https://data.giss.nasa.gov/gistemp/graphs_v4/graph_data/Temperature_Change_for_Three_Latitude_Bands/graph.png)\n",
    "\n",
    "Make sure you understand how temperature is measured. Go to NASA’s Goddard Institute for Space Studies website: https://data.giss.nasa.gov/gistemp/\n",
    "\n",
    "Under the subheading ‘Combined Land-Surface Air and Sea-Surface Water Temperature Anomalies (Land-Ocean Temperature Index, LOTI)’, select the CSV version of ‘Zonal annual means, 1880-present, updated through most recent complete year’.\n",
    "\n",
    "The default name of this file is ZonAnn.Ts+dSST.csv. The above code gives it a suitable name and reads it into your Jupyter Notebook home folder.\n",
    "\n",
    "In this dataset, temperature is measured as ‘anomalies’ rather than absolute temperature."
   ]
  },
  {
   "cell_type": "code",
   "execution_count": 106,
   "metadata": {},
   "outputs": [
    {
     "data": {
      "text/html": [
       "<div>\n",
       "<style scoped>\n",
       "    .dataframe tbody tr th:only-of-type {\n",
       "        vertical-align: middle;\n",
       "    }\n",
       "\n",
       "    .dataframe tbody tr th {\n",
       "        vertical-align: top;\n",
       "    }\n",
       "\n",
       "    .dataframe thead th {\n",
       "        text-align: right;\n",
       "    }\n",
       "</style>\n",
       "<table border=\"1\" class=\"dataframe\">\n",
       "  <thead>\n",
       "    <tr style=\"text-align: right;\">\n",
       "      <th></th>\n",
       "      <th>Year</th>\n",
       "      <th>Glob</th>\n",
       "      <th>NHem</th>\n",
       "      <th>SHem</th>\n",
       "      <th>24N-90N</th>\n",
       "      <th>24S-24N</th>\n",
       "      <th>90S-24S</th>\n",
       "      <th>64N-90N</th>\n",
       "      <th>44N-64N</th>\n",
       "      <th>24N-44N</th>\n",
       "      <th>EQU-24N</th>\n",
       "      <th>24S-EQU</th>\n",
       "      <th>44S-24S</th>\n",
       "      <th>64S-44S</th>\n",
       "      <th>90S-64S</th>\n",
       "    </tr>\n",
       "  </thead>\n",
       "  <tbody>\n",
       "    <tr>\n",
       "      <th>0</th>\n",
       "      <td>1880</td>\n",
       "      <td>-0.16</td>\n",
       "      <td>-0.27</td>\n",
       "      <td>-0.04</td>\n",
       "      <td>-0.35</td>\n",
       "      <td>-0.12</td>\n",
       "      <td>-0.02</td>\n",
       "      <td>-0.83</td>\n",
       "      <td>-0.43</td>\n",
       "      <td>-0.26</td>\n",
       "      <td>-0.15</td>\n",
       "      <td>-0.09</td>\n",
       "      <td>-0.04</td>\n",
       "      <td>0.05</td>\n",
       "      <td>0.64</td>\n",
       "    </tr>\n",
       "    <tr>\n",
       "      <th>1</th>\n",
       "      <td>1881</td>\n",
       "      <td>-0.08</td>\n",
       "      <td>-0.16</td>\n",
       "      <td>0.00</td>\n",
       "      <td>-0.33</td>\n",
       "      <td>0.11</td>\n",
       "      <td>-0.07</td>\n",
       "      <td>-0.92</td>\n",
       "      <td>-0.41</td>\n",
       "      <td>-0.19</td>\n",
       "      <td>0.10</td>\n",
       "      <td>0.11</td>\n",
       "      <td>-0.06</td>\n",
       "      <td>-0.07</td>\n",
       "      <td>0.56</td>\n",
       "    </tr>\n",
       "    <tr>\n",
       "      <th>2</th>\n",
       "      <td>1882</td>\n",
       "      <td>-0.10</td>\n",
       "      <td>-0.20</td>\n",
       "      <td>-0.01</td>\n",
       "      <td>-0.29</td>\n",
       "      <td>-0.04</td>\n",
       "      <td>0.01</td>\n",
       "      <td>-1.42</td>\n",
       "      <td>-0.23</td>\n",
       "      <td>-0.13</td>\n",
       "      <td>-0.05</td>\n",
       "      <td>-0.04</td>\n",
       "      <td>0.01</td>\n",
       "      <td>0.03</td>\n",
       "      <td>0.59</td>\n",
       "    </tr>\n",
       "    <tr>\n",
       "      <th>3</th>\n",
       "      <td>1883</td>\n",
       "      <td>-0.17</td>\n",
       "      <td>-0.27</td>\n",
       "      <td>-0.06</td>\n",
       "      <td>-0.33</td>\n",
       "      <td>-0.16</td>\n",
       "      <td>-0.01</td>\n",
       "      <td>-0.20</td>\n",
       "      <td>-0.53</td>\n",
       "      <td>-0.25</td>\n",
       "      <td>-0.17</td>\n",
       "      <td>-0.15</td>\n",
       "      <td>-0.04</td>\n",
       "      <td>0.07</td>\n",
       "      <td>0.47</td>\n",
       "    </tr>\n",
       "    <tr>\n",
       "      <th>4</th>\n",
       "      <td>1884</td>\n",
       "      <td>-0.28</td>\n",
       "      <td>-0.42</td>\n",
       "      <td>-0.15</td>\n",
       "      <td>-0.60</td>\n",
       "      <td>-0.14</td>\n",
       "      <td>-0.14</td>\n",
       "      <td>-1.32</td>\n",
       "      <td>-0.63</td>\n",
       "      <td>-0.45</td>\n",
       "      <td>-0.13</td>\n",
       "      <td>-0.16</td>\n",
       "      <td>-0.19</td>\n",
       "      <td>-0.02</td>\n",
       "      <td>0.62</td>\n",
       "    </tr>\n",
       "    <tr>\n",
       "      <th>...</th>\n",
       "      <td>...</td>\n",
       "      <td>...</td>\n",
       "      <td>...</td>\n",
       "      <td>...</td>\n",
       "      <td>...</td>\n",
       "      <td>...</td>\n",
       "      <td>...</td>\n",
       "      <td>...</td>\n",
       "      <td>...</td>\n",
       "      <td>...</td>\n",
       "      <td>...</td>\n",
       "      <td>...</td>\n",
       "      <td>...</td>\n",
       "      <td>...</td>\n",
       "      <td>...</td>\n",
       "    </tr>\n",
       "    <tr>\n",
       "      <th>135</th>\n",
       "      <td>2015</td>\n",
       "      <td>0.90</td>\n",
       "      <td>1.18</td>\n",
       "      <td>0.63</td>\n",
       "      <td>1.31</td>\n",
       "      <td>0.96</td>\n",
       "      <td>0.40</td>\n",
       "      <td>1.99</td>\n",
       "      <td>1.47</td>\n",
       "      <td>1.00</td>\n",
       "      <td>0.98</td>\n",
       "      <td>0.94</td>\n",
       "      <td>0.75</td>\n",
       "      <td>0.18</td>\n",
       "      <td>-0.35</td>\n",
       "    </tr>\n",
       "    <tr>\n",
       "      <th>136</th>\n",
       "      <td>2016</td>\n",
       "      <td>1.02</td>\n",
       "      <td>1.31</td>\n",
       "      <td>0.73</td>\n",
       "      <td>1.55</td>\n",
       "      <td>1.01</td>\n",
       "      <td>0.49</td>\n",
       "      <td>3.24</td>\n",
       "      <td>1.43</td>\n",
       "      <td>1.08</td>\n",
       "      <td>0.96</td>\n",
       "      <td>1.07</td>\n",
       "      <td>0.67</td>\n",
       "      <td>0.25</td>\n",
       "      <td>0.36</td>\n",
       "    </tr>\n",
       "    <tr>\n",
       "      <th>137</th>\n",
       "      <td>2017</td>\n",
       "      <td>0.92</td>\n",
       "      <td>1.18</td>\n",
       "      <td>0.67</td>\n",
       "      <td>1.39</td>\n",
       "      <td>0.82</td>\n",
       "      <td>0.59</td>\n",
       "      <td>2.51</td>\n",
       "      <td>1.37</td>\n",
       "      <td>1.05</td>\n",
       "      <td>0.87</td>\n",
       "      <td>0.77</td>\n",
       "      <td>0.76</td>\n",
       "      <td>0.35</td>\n",
       "      <td>0.53</td>\n",
       "    </tr>\n",
       "    <tr>\n",
       "      <th>138</th>\n",
       "      <td>2018</td>\n",
       "      <td>0.85</td>\n",
       "      <td>1.04</td>\n",
       "      <td>0.66</td>\n",
       "      <td>1.25</td>\n",
       "      <td>0.68</td>\n",
       "      <td>0.68</td>\n",
       "      <td>2.15</td>\n",
       "      <td>1.09</td>\n",
       "      <td>1.06</td>\n",
       "      <td>0.73</td>\n",
       "      <td>0.63</td>\n",
       "      <td>0.80</td>\n",
       "      <td>0.37</td>\n",
       "      <td>0.93</td>\n",
       "    </tr>\n",
       "    <tr>\n",
       "      <th>139</th>\n",
       "      <td>2019</td>\n",
       "      <td>0.98</td>\n",
       "      <td>1.21</td>\n",
       "      <td>0.75</td>\n",
       "      <td>1.42</td>\n",
       "      <td>0.90</td>\n",
       "      <td>0.64</td>\n",
       "      <td>2.70</td>\n",
       "      <td>1.44</td>\n",
       "      <td>1.00</td>\n",
       "      <td>0.91</td>\n",
       "      <td>0.90</td>\n",
       "      <td>0.75</td>\n",
       "      <td>0.39</td>\n",
       "      <td>0.83</td>\n",
       "    </tr>\n",
       "  </tbody>\n",
       "</table>\n",
       "<p>140 rows × 15 columns</p>\n",
       "</div>"
      ],
      "text/plain": [
       "     Year  Glob  NHem  SHem  24N-90N  24S-24N  90S-24S  64N-90N  44N-64N  \\\n",
       "0    1880 -0.16 -0.27 -0.04    -0.35    -0.12    -0.02    -0.83    -0.43   \n",
       "1    1881 -0.08 -0.16  0.00    -0.33     0.11    -0.07    -0.92    -0.41   \n",
       "2    1882 -0.10 -0.20 -0.01    -0.29    -0.04     0.01    -1.42    -0.23   \n",
       "3    1883 -0.17 -0.27 -0.06    -0.33    -0.16    -0.01    -0.20    -0.53   \n",
       "4    1884 -0.28 -0.42 -0.15    -0.60    -0.14    -0.14    -1.32    -0.63   \n",
       "..    ...   ...   ...   ...      ...      ...      ...      ...      ...   \n",
       "135  2015  0.90  1.18  0.63     1.31     0.96     0.40     1.99     1.47   \n",
       "136  2016  1.02  1.31  0.73     1.55     1.01     0.49     3.24     1.43   \n",
       "137  2017  0.92  1.18  0.67     1.39     0.82     0.59     2.51     1.37   \n",
       "138  2018  0.85  1.04  0.66     1.25     0.68     0.68     2.15     1.09   \n",
       "139  2019  0.98  1.21  0.75     1.42     0.90     0.64     2.70     1.44   \n",
       "\n",
       "     24N-44N  EQU-24N  24S-EQU  44S-24S  64S-44S  90S-64S  \n",
       "0      -0.26    -0.15    -0.09    -0.04     0.05     0.64  \n",
       "1      -0.19     0.10     0.11    -0.06    -0.07     0.56  \n",
       "2      -0.13    -0.05    -0.04     0.01     0.03     0.59  \n",
       "3      -0.25    -0.17    -0.15    -0.04     0.07     0.47  \n",
       "4      -0.45    -0.13    -0.16    -0.19    -0.02     0.62  \n",
       "..       ...      ...      ...      ...      ...      ...  \n",
       "135     1.00     0.98     0.94     0.75     0.18    -0.35  \n",
       "136     1.08     0.96     1.07     0.67     0.25     0.36  \n",
       "137     1.05     0.87     0.77     0.76     0.35     0.53  \n",
       "138     1.06     0.73     0.63     0.80     0.37     0.93  \n",
       "139     1.00     0.91     0.90     0.75     0.39     0.83  \n",
       "\n",
       "[140 rows x 15 columns]"
      ]
     },
     "execution_count": 106,
     "metadata": {},
     "output_type": "execute_result"
    }
   ],
   "source": [
    "url='https://data.giss.nasa.gov/gistemp/tabledata_v4/ZonAnn.Ts+dSST.csv'\n",
    "df_nasa=pd.read_csv(url)\n",
    "df_nasa"
   ]
  },
  {
   "cell_type": "markdown",
   "metadata": {},
   "source": [
    "##### Q 1.1. \n",
    "Using the source as a reference, explain in your own words what temperature ‘anomalies’\n",
    "means. Why have researchers chosen this particular measure over other measures (such as absolute\n",
    "temperature)?\n"
   ]
  },
  {
   "cell_type": "code",
   "execution_count": null,
   "metadata": {},
   "outputs": [],
   "source": []
  },
  {
   "cell_type": "markdown",
   "metadata": {},
   "source": [
    "\n",
    "Now create some line plots using this annual data, which help us look for general patterns over time. \n",
    "First, select the latitude band corresponding to the capital city for the country you chose. Viewing the\n",
    "CSV file as a spreadsheet, the columns labelled E-O contain the average temperature anomaly for each\n",
    "year, by latitude band."
   ]
  },
  {
   "cell_type": "markdown",
   "metadata": {},
   "source": [
    "##### Q 1.2. \n",
    "Plot a line chart with annual average temperature anomaly on the vertical axis and time\n",
    "(1880–2020) on the horizontal axis. Your chart should look like the above figure (minus the smoothed trend line). Create a horizontal line that intersects the vertical axis at 0, and label it ‘1951–1980 average’.\n",
    "What does your chart suggest about the relationship between temperature and time? "
   ]
  },
  {
   "cell_type": "code",
   "execution_count": null,
   "metadata": {},
   "outputs": [],
   "source": []
  },
  {
   "cell_type": "markdown",
   "metadata": {},
   "source": [
    "#### Part 2\n",
    "This exercise uses two data sets, [scripps CO2 data](https://scrippsco2.ucsd.edu/data/atmospheric_co2/icecore_merged_products.html)  and [ETH Zurich data](ftp://data.iac.ethz.ch/CMIP6/input4MIPs/UoM/GHGConc/CMIP/yr/atmos/UoM-CMIP-1-1-0/GHGConc/gr3-GMNHSH/v20160701/) . The latter data set was downloaded from ftp://data.iac.ethz.ch/CMIP6/input4MIPs/UoM/GHGConc/CMIP/yr/atmos/UoM-CMIP-1-1-0/GHGConc/gr3-GMNHSH/v20160701/ where it is maintained by the Institute for Atmospheric and Climate Science (IAC) at Eidgenössische Technische Hochschule in Zürich, Switzerland. Please download both datasets from the above links into this Jupyter notebook.\n",
    "\n"
   ]
  },
  {
   "cell_type": "code",
   "execution_count": 107,
   "metadata": {},
   "outputs": [],
   "source": [
    "#  location variables to point to URLs of these files \n",
    "loc1='https://scrippsco2.ucsd.edu/assets/data/atmospheric/merged_ice_core_mlo_spo/merged_ice_core_yearly.csv'\n",
    "loc2='ftp://data.iac.ethz.ch/CMIP6/input4MIPs/UoM/GHGConc/CMIP/yr/atmos/UoM-CMIP-1-1-0/GHGConc/gr3-GMNHSH/v20160701/mole_fraction_of_carbon_dioxide_in_air_input4MIPs_GHGConcentrations_CMIP_UoM-CMIP-1-1-0_gr3-GMNHSH_0000-2014.csv'"
   ]
  },
  {
   "cell_type": "code",
   "execution_count": 108,
   "metadata": {},
   "outputs": [],
   "source": [
    "malo_data=pd.read_csv(loc1,header=27)\n",
    "malo_data.columns=['co2_ppm']\n",
    "malo_data.index.name='yr'\n",
    "malo_data['year']=malo_data.index.astype(int)\n",
    "\n",
    "eth_data=pd.read_csv(loc2)"
   ]
  },
  {
   "cell_type": "code",
   "execution_count": 109,
   "metadata": {},
   "outputs": [
    {
     "data": {
      "text/html": [
       "<div>\n",
       "<style scoped>\n",
       "    .dataframe tbody tr th:only-of-type {\n",
       "        vertical-align: middle;\n",
       "    }\n",
       "\n",
       "    .dataframe tbody tr th {\n",
       "        vertical-align: top;\n",
       "    }\n",
       "\n",
       "    .dataframe thead th {\n",
       "        text-align: right;\n",
       "    }\n",
       "</style>\n",
       "<table border=\"1\" class=\"dataframe\">\n",
       "  <thead>\n",
       "    <tr style=\"text-align: right;\">\n",
       "      <th></th>\n",
       "      <th>co2_ppm</th>\n",
       "      <th>year</th>\n",
       "    </tr>\n",
       "    <tr>\n",
       "      <th>yr</th>\n",
       "      <th></th>\n",
       "      <th></th>\n",
       "    </tr>\n",
       "  </thead>\n",
       "  <tbody>\n",
       "    <tr>\n",
       "      <th>2014.0</th>\n",
       "      <td>395.87</td>\n",
       "      <td>2014</td>\n",
       "    </tr>\n",
       "    <tr>\n",
       "      <th>2015.0</th>\n",
       "      <td>397.83</td>\n",
       "      <td>2015</td>\n",
       "    </tr>\n",
       "    <tr>\n",
       "      <th>2016.0</th>\n",
       "      <td>400.78</td>\n",
       "      <td>2016</td>\n",
       "    </tr>\n",
       "    <tr>\n",
       "      <th>2017.0</th>\n",
       "      <td>403.57</td>\n",
       "      <td>2017</td>\n",
       "    </tr>\n",
       "    <tr>\n",
       "      <th>2018.0</th>\n",
       "      <td>405.66</td>\n",
       "      <td>2018</td>\n",
       "    </tr>\n",
       "  </tbody>\n",
       "</table>\n",
       "</div>"
      ],
      "text/plain": [
       "        co2_ppm  year\n",
       "yr                   \n",
       "2014.0   395.87  2014\n",
       "2015.0   397.83  2015\n",
       "2016.0   400.78  2016\n",
       "2017.0   403.57  2017\n",
       "2018.0   405.66  2018"
      ]
     },
     "execution_count": 109,
     "metadata": {},
     "output_type": "execute_result"
    }
   ],
   "source": [
    "malo_data.tail(5)"
   ]
  },
  {
   "cell_type": "code",
   "execution_count": 110,
   "metadata": {},
   "outputs": [
    {
     "data": {
      "text/plain": [
       "co2_ppm    float64\n",
       "year         int64\n",
       "dtype: object"
      ]
     },
     "execution_count": 110,
     "metadata": {},
     "output_type": "execute_result"
    }
   ],
   "source": [
    "malo_data.dtypes"
   ]
  },
  {
   "cell_type": "code",
   "execution_count": 111,
   "metadata": {},
   "outputs": [
    {
     "data": {
      "text/html": [
       "<div>\n",
       "<style scoped>\n",
       "    .dataframe tbody tr th:only-of-type {\n",
       "        vertical-align: middle;\n",
       "    }\n",
       "\n",
       "    .dataframe tbody tr th {\n",
       "        vertical-align: top;\n",
       "    }\n",
       "\n",
       "    .dataframe thead th {\n",
       "        text-align: right;\n",
       "    }\n",
       "</style>\n",
       "<table border=\"1\" class=\"dataframe\">\n",
       "  <thead>\n",
       "    <tr style=\"text-align: right;\">\n",
       "      <th></th>\n",
       "      <th>year</th>\n",
       "      <th>data_mean_global</th>\n",
       "      <th>data_mean_nh</th>\n",
       "      <th>data_mean_sh</th>\n",
       "    </tr>\n",
       "  </thead>\n",
       "  <tbody>\n",
       "    <tr>\n",
       "      <th>2010</th>\n",
       "      <td>2010</td>\n",
       "      <td>388.717029</td>\n",
       "      <td>390.784658</td>\n",
       "      <td>386.649401</td>\n",
       "    </tr>\n",
       "    <tr>\n",
       "      <th>2011</th>\n",
       "      <td>2011</td>\n",
       "      <td>390.944015</td>\n",
       "      <td>393.041154</td>\n",
       "      <td>388.846876</td>\n",
       "    </tr>\n",
       "    <tr>\n",
       "      <th>2012</th>\n",
       "      <td>2012</td>\n",
       "      <td>393.015993</td>\n",
       "      <td>395.036206</td>\n",
       "      <td>390.995779</td>\n",
       "    </tr>\n",
       "    <tr>\n",
       "      <th>2013</th>\n",
       "      <td>2013</td>\n",
       "      <td>395.724979</td>\n",
       "      <td>397.714917</td>\n",
       "      <td>393.735042</td>\n",
       "    </tr>\n",
       "    <tr>\n",
       "      <th>2014</th>\n",
       "      <td>2014</td>\n",
       "      <td>397.546977</td>\n",
       "      <td>399.590917</td>\n",
       "      <td>395.503037</td>\n",
       "    </tr>\n",
       "  </tbody>\n",
       "</table>\n",
       "</div>"
      ],
      "text/plain": [
       "      year  data_mean_global  data_mean_nh  data_mean_sh\n",
       "2010  2010        388.717029    390.784658    386.649401\n",
       "2011  2011        390.944015    393.041154    388.846876\n",
       "2012  2012        393.015993    395.036206    390.995779\n",
       "2013  2013        395.724979    397.714917    393.735042\n",
       "2014  2014        397.546977    399.590917    395.503037"
      ]
     },
     "execution_count": 111,
     "metadata": {},
     "output_type": "execute_result"
    }
   ],
   "source": [
    "eth_data.tail(5)"
   ]
  },
  {
   "cell_type": "code",
   "execution_count": 112,
   "metadata": {},
   "outputs": [
    {
     "data": {
      "text/plain": [
       "year                  int64\n",
       "data_mean_global    float64\n",
       "data_mean_nh        float64\n",
       "data_mean_sh        float64\n",
       "dtype: object"
      ]
     },
     "execution_count": 112,
     "metadata": {},
     "output_type": "execute_result"
    }
   ],
   "source": [
    "eth_data.dtypes"
   ]
  },
  {
   "cell_type": "code",
   "execution_count": 113,
   "metadata": {},
   "outputs": [
    {
     "data": {
      "text/html": [
       "<div>\n",
       "<style scoped>\n",
       "    .dataframe tbody tr th:only-of-type {\n",
       "        vertical-align: middle;\n",
       "    }\n",
       "\n",
       "    .dataframe tbody tr th {\n",
       "        vertical-align: top;\n",
       "    }\n",
       "\n",
       "    .dataframe thead th {\n",
       "        text-align: right;\n",
       "    }\n",
       "</style>\n",
       "<table border=\"1\" class=\"dataframe\">\n",
       "  <thead>\n",
       "    <tr style=\"text-align: right;\">\n",
       "      <th></th>\n",
       "      <th>year</th>\n",
       "      <th>data_mean_global</th>\n",
       "      <th>data_mean_nh</th>\n",
       "      <th>data_mean_sh</th>\n",
       "    </tr>\n",
       "  </thead>\n",
       "  <tbody>\n",
       "    <tr>\n",
       "      <th>2010</th>\n",
       "      <td>2010</td>\n",
       "      <td>388.717029</td>\n",
       "      <td>390.784658</td>\n",
       "      <td>386.649401</td>\n",
       "    </tr>\n",
       "    <tr>\n",
       "      <th>2011</th>\n",
       "      <td>2011</td>\n",
       "      <td>390.944015</td>\n",
       "      <td>393.041154</td>\n",
       "      <td>388.846876</td>\n",
       "    </tr>\n",
       "    <tr>\n",
       "      <th>2012</th>\n",
       "      <td>2012</td>\n",
       "      <td>393.015993</td>\n",
       "      <td>395.036206</td>\n",
       "      <td>390.995779</td>\n",
       "    </tr>\n",
       "    <tr>\n",
       "      <th>2013</th>\n",
       "      <td>2013</td>\n",
       "      <td>395.724979</td>\n",
       "      <td>397.714917</td>\n",
       "      <td>393.735042</td>\n",
       "    </tr>\n",
       "    <tr>\n",
       "      <th>2014</th>\n",
       "      <td>2014</td>\n",
       "      <td>397.546977</td>\n",
       "      <td>399.590917</td>\n",
       "      <td>395.503037</td>\n",
       "    </tr>\n",
       "  </tbody>\n",
       "</table>\n",
       "</div>"
      ],
      "text/plain": [
       "      year  data_mean_global  data_mean_nh  data_mean_sh\n",
       "2010  2010        388.717029    390.784658    386.649401\n",
       "2011  2011        390.944015    393.041154    388.846876\n",
       "2012  2012        393.015993    395.036206    390.995779\n",
       "2013  2013        395.724979    397.714917    393.735042\n",
       "2014  2014        397.546977    399.590917    395.503037"
      ]
     },
     "execution_count": 113,
     "metadata": {},
     "output_type": "execute_result"
    }
   ],
   "source": [
    "eth_data.tail(5)"
   ]
  },
  {
   "cell_type": "markdown",
   "metadata": {},
   "source": [
    "##### Question 2.1. \n",
    "As you have just seen, both the Scripps and the ETA data contain estimated annual mean atmospheric $CO_2$ levels going back to roughly 0 AD!\n",
    "\n",
    "(The ancient estimates of $CO_2$ levels are based on analysis of air bubbles trapped in ice cores in the arctic and antarctic. More contemporary estimates of average atmospheric $CO_2$ levels are measured at instruments located in the northern hemisphere (data_mean_nh), the southern hemisphere (data_mean_sh), and a global average of these measurements (data_mean_global).\n",
    "\n",
    "The Scripps data is a single global average based on ice cores prior to 1958, and the mean of Mauna Loa (in the Northern Hemisphere) and the South Pole from 1958 on.\n",
    "\n",
    "Please merge the eth dataframe with the mauna loa dataframe using year in both datasets as the match variable for merge, then construct a plot containing the eth global mean, and the Scripps annual measurement, over the years 1959-2019.\n",
    "\n",
    "Repeat this plot, but with a log scale for $CO_2$ levels.\n"
   ]
  },
  {
   "cell_type": "code",
   "execution_count": null,
   "metadata": {},
   "outputs": [],
   "source": []
  },
  {
   "cell_type": "code",
   "execution_count": null,
   "metadata": {},
   "outputs": [],
   "source": []
  },
  {
   "cell_type": "markdown",
   "metadata": {},
   "source": [
    "##### Question 2.2:   \n",
    "Now, redo your plot for question 2, but this time plot northern and southern hemisphere mean $CO_2$ levels, as well as the Scripps global measurement, over all available years for all three variables.\n",
    "\n",
    "**Hint:** \n",
    "Instead of using the \"inner join\" that is the default for Pandas' merge method, use an \"outer join\" to merge together all data for all years in which you have an observation for any variable."
   ]
  },
  {
   "cell_type": "code",
   "execution_count": null,
   "metadata": {},
   "outputs": [],
   "source": []
  },
  {
   "cell_type": "markdown",
   "metadata": {},
   "source": [
    "##### Question 2.3\n",
    "Calculate the correlation coefficients between the Scripps global, northern hemisphere, and southern hemisphere average $CO_2$ concentrations.\n",
    "\n",
    "**Hint:** Use the Pandas `.corr()` method on your merged dataframe.\n",
    "\n",
    "Is the correlation of the Scripps global average with the Northern Hemisphere greater or smaller than Scripps' correlation with the Southern Hemisphere?"
   ]
  },
  {
   "cell_type": "code",
   "execution_count": null,
   "metadata": {},
   "outputs": [],
   "source": []
  },
  {
   "cell_type": "markdown",
   "metadata": {},
   "source": [
    "### Part 3 \n",
    "## Carbon emissions and the environment\n",
    "The government has heard that carbon emissions could be responsible for climate change. It has asked\n",
    "your team to investigate whether this is the case. To do so, we are now going to look at carbon emissions over\n",
    "time, and use another type of chart (scatter plots) to show their relationship with temperature\n",
    "anomalies. One way to measure whether there is a relationship between two variables is a linear\n",
    "regression. Another commonly used measure, the correlation coefficient, when squared, equals the $R^2$\n",
    "(explained variance share) statistic calculated by linear regression software. $R^2$\n",
    " measures how well two variables are related to one another by a simple linear relationship. For example, high values of one variable may tend to be observed along with high values of the other variable—this would be associated with a positive and statistically significant coefficient estimate on the explanatory variable in the\n",
    "regression, and values close to 1 for $R^2$.\n",
    "\n",
    "This coefficient estimate can be positive or negative. It is negative when high values of one variable are\n",
    "associated with low values of the other. (Example: When the weather is hotter, purchases of ice cream\n",
    "are higher. Temperature and ice cream sales have a positive association. On the other hand, if purchases\n",
    "of hot beverages decrease when the weather is hotter, we say that temperature and hot beverage sales\n",
    "have a negative association.) A statistically significant coefficient does not mean that there necessarily is\n",
    "a causal relationship between the variables. The `statsmodels` package can run a linear regression\n",
    "between dependent and explanatory variables in a Pandas dataframe, as we have previously seen. \n"
   ]
  },
  {
   "cell_type": "markdown",
   "metadata": {},
   "source": [
    "##### Q 3.1. \n",
    "[Using this source](https://www.esrl.noaa.gov/gmd/ccgg/about/co2_measurements.html)\n",
    "as reference, explain whether or not you think this data is a reliable representation of the\n",
    "global atmosphere."
   ]
  },
  {
   "cell_type": "code",
   "execution_count": null,
   "metadata": {},
   "outputs": [],
   "source": []
  },
  {
   "cell_type": "markdown",
   "metadata": {},
   "source": [
    "##### Q 3.2. \n",
    "Now, please use a line plot to look for general patterns over time.\n",
    "\n",
    "\n",
    "Plot a line chart with mean $CO_2$ levels on the vertical axis and time (over the entire\n",
    "historical data set, and then starting from 1958 on, when current air samples begin to be\n",
    "sampled) on the horizontal axis. Label the axes and the chart legend, and give your plot an\n",
    "appropriate title. What does this chart suggest about the relationship between $CO_2$ and time?"
   ]
  },
  {
   "cell_type": "code",
   "execution_count": null,
   "metadata": {},
   "outputs": [],
   "source": []
  },
  {
   "cell_type": "markdown",
   "metadata": {},
   "source": [
    "We will now combine the $CO_2$ data with the temperature data from Part 1, and then examine the\n",
    "relationship between these two variables visually, using scatterplots, and statistically, using correlation coefficients, for your chosen country. Use the latitude band for the capital of your country for the temperature measurement, and the hemisphere of your country for the $CO_2$ measurement.\n",
    "\n",
    "Add the $CO_2$ data to the temperature dataset from Part 1, making sure that the data corresponds\n",
    "to the correct year."
   ]
  },
  {
   "cell_type": "markdown",
   "metadata": {},
   "source": [
    "#### Q 3.3. \n",
    "Make a scatterplot of $CO_2$ level on the vertical axis and temperature anomaly on the\n",
    "horizontal axis, for all historical data, and from 1958 on. What can you say about the apparent relationship, if any?"
   ]
  },
  {
   "cell_type": "code",
   "execution_count": null,
   "metadata": {},
   "outputs": [],
   "source": []
  },
  {
   "cell_type": "markdown",
   "metadata": {},
   "source": [
    "##### Q3.4\n",
    "\n",
    "Calculate the correlation coefficient between temperature anomaly and $CO_2$ for your country. Does this alter your view as expressed in thhe previous question?"
   ]
  },
  {
   "cell_type": "code",
   "execution_count": null,
   "metadata": {},
   "outputs": [],
   "source": []
  },
  {
   "cell_type": "code",
   "execution_count": null,
   "metadata": {},
   "outputs": [],
   "source": []
  },
  {
   "cell_type": "markdown",
   "metadata": {},
   "source": [
    "##### Q3.5.\n",
    "Does your team believe the data support the theory that increased carbon dioxide accumulation causes an increase in termperature based on data for your nation? Explain why?\n"
   ]
  },
  {
   "cell_type": "code",
   "execution_count": null,
   "metadata": {},
   "outputs": [],
   "source": []
  },
  {
   "cell_type": "code",
   "execution_count": null,
   "metadata": {},
   "outputs": [],
   "source": []
  },
  {
   "cell_type": "markdown",
   "metadata": {},
   "source": [
    "##### Q3.6\n",
    "Can your team think of any sorts of experiments ('natural' or unnatural) that might test whether the apparent association between $CO_2$ and temperature is a causal link between increased greenhouse gas levels and temperature increases?\n"
   ]
  },
  {
   "cell_type": "code",
   "execution_count": null,
   "metadata": {},
   "outputs": [],
   "source": []
  },
  {
   "cell_type": "code",
   "execution_count": null,
   "metadata": {},
   "outputs": [],
   "source": []
  }
 ],
 "metadata": {
  "kernelspec": {
   "display_name": "Python 3",
   "language": "python",
   "name": "python3"
  },
  "language_info": {
   "codemirror_mode": {
    "name": "ipython",
    "version": 3
   },
   "file_extension": ".py",
   "mimetype": "text/x-python",
   "name": "python",
   "nbconvert_exporter": "python",
   "pygments_lexer": "ipython3",
   "version": "3.7.4"
  }
 },
 "nbformat": 4,
 "nbformat_minor": 4
}
